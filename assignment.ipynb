{
  "nbformat": 4,
  "nbformat_minor": 0,
  "metadata": {
    "colab": {
      "provenance": [],
      "authorship_tag": "ABX9TyNSeKn/Y+DZnxwirhAVGO9V",
      "include_colab_link": true
    },
    "kernelspec": {
      "name": "python3",
      "display_name": "Python 3"
    },
    "language_info": {
      "name": "python"
    }
  },
  "cells": [
    {
      "cell_type": "markdown",
      "metadata": {
        "id": "view-in-github",
        "colab_type": "text"
      },
      "source": [
        "<a href=\"https://colab.research.google.com/github/poojikuna2003/OIBSIP/blob/main/assignment.ipynb\" target=\"_parent\"><img src=\"https://colab.research.google.com/assets/colab-badge.svg\" alt=\"Open In Colab\"/></a>"
      ]
    },
    {
      "cell_type": "code",
      "execution_count": null,
      "metadata": {
        "colab": {
          "base_uri": "https://localhost:8080/"
        },
        "id": "9QJoGPCaPDfQ",
        "outputId": "382ed58a-cb15-476a-a797-6341be1b39da"
      },
      "outputs": [
        {
          "output_type": "stream",
          "name": "stdout",
          "text": [
            "Cloning into 'LivePortrait'...\n",
            "remote: Enumerating objects: 1071, done.\u001b[K\n",
            "remote: Counting objects: 100% (295/295), done.\u001b[K\n",
            "remote: Compressing objects: 100% (49/49), done.\u001b[K\n",
            "remote: Total 1071 (delta 262), reused 246 (delta 246), pack-reused 776 (from 3)\u001b[K\n",
            "Receiving objects: 100% (1071/1071), 38.77 MiB | 18.53 MiB/s, done.\n",
            "Resolving deltas: 100% (557/557), done.\n"
          ]
        }
      ],
      "source": [
        "!git clone https://github.com/KwaiVGI/LivePortrait.git"
      ]
    },
    {
      "cell_type": "code",
      "source": [],
      "metadata": {
        "id": "SOB0m3JXboU-"
      },
      "execution_count": null,
      "outputs": []
    },
    {
      "cell_type": "code",
      "source": [
        "%cd LivePortrait\n"
      ],
      "metadata": {
        "colab": {
          "base_uri": "https://localhost:8080/"
        },
        "id": "wIMSbk0yPrfn",
        "outputId": "d330e724-cc46-4a1d-ca0e-c15fe5f9ea49"
      },
      "execution_count": null,
      "outputs": [
        {
          "output_type": "stream",
          "name": "stdout",
          "text": [
            "/content/LivePortrait\n"
          ]
        }
      ]
    },
    {
      "cell_type": "code",
      "source": [
        "!pip install -r requirements.txt\n"
      ],
      "metadata": {
        "colab": {
          "base_uri": "https://localhost:8080/"
        },
        "collapsed": true,
        "id": "I2hJDhBJP4sQ",
        "outputId": "8435beeb-eafa-4a43-c572-b9fc68fdd775"
      },
      "execution_count": null,
      "outputs": [
        {
          "output_type": "stream",
          "name": "stdout",
          "text": [
            "Requirement already satisfied: numpy==1.26.4 in /usr/local/lib/python3.11/dist-packages (from -r requirements_base.txt (line 1)) (1.26.4)\n",
            "Requirement already satisfied: pyyaml==6.0.1 in /usr/local/lib/python3.11/dist-packages (from -r requirements_base.txt (line 2)) (6.0.1)\n",
            "Requirement already satisfied: opencv-python==4.10.0.84 in /usr/local/lib/python3.11/dist-packages (from -r requirements_base.txt (line 3)) (4.10.0.84)\n",
            "Requirement already satisfied: scipy==1.13.1 in /usr/local/lib/python3.11/dist-packages (from -r requirements_base.txt (line 4)) (1.13.1)\n",
            "Requirement already satisfied: imageio==2.34.2 in /usr/local/lib/python3.11/dist-packages (from -r requirements_base.txt (line 5)) (2.34.2)\n",
            "Requirement already satisfied: lmdb==1.4.1 in /usr/local/lib/python3.11/dist-packages (from -r requirements_base.txt (line 6)) (1.4.1)\n",
            "Requirement already satisfied: tqdm==4.66.4 in /usr/local/lib/python3.11/dist-packages (from -r requirements_base.txt (line 7)) (4.66.4)\n",
            "Requirement already satisfied: rich==13.7.1 in /usr/local/lib/python3.11/dist-packages (from -r requirements_base.txt (line 8)) (13.7.1)\n",
            "Requirement already satisfied: ffmpeg-python==0.2.0 in /usr/local/lib/python3.11/dist-packages (from -r requirements_base.txt (line 9)) (0.2.0)\n",
            "Requirement already satisfied: onnx==1.16.1 in /usr/local/lib/python3.11/dist-packages (from -r requirements_base.txt (line 10)) (1.16.1)\n",
            "Requirement already satisfied: scikit-image==0.24.0 in /usr/local/lib/python3.11/dist-packages (from -r requirements_base.txt (line 11)) (0.24.0)\n",
            "Requirement already satisfied: albumentations==1.4.10 in /usr/local/lib/python3.11/dist-packages (from -r requirements_base.txt (line 12)) (1.4.10)\n",
            "Requirement already satisfied: matplotlib==3.9.0 in /usr/local/lib/python3.11/dist-packages (from -r requirements_base.txt (line 13)) (3.9.0)\n",
            "Requirement already satisfied: imageio-ffmpeg==0.5.1 in /usr/local/lib/python3.11/dist-packages (from -r requirements_base.txt (line 14)) (0.5.1)\n",
            "Requirement already satisfied: tyro==0.8.5 in /usr/local/lib/python3.11/dist-packages (from -r requirements_base.txt (line 15)) (0.8.5)\n",
            "Requirement already satisfied: gradio==5.1.0 in /usr/local/lib/python3.11/dist-packages (from -r requirements_base.txt (line 16)) (5.1.0)\n",
            "Requirement already satisfied: pykalman==0.9.7 in /usr/local/lib/python3.11/dist-packages (from -r requirements_base.txt (line 17)) (0.9.7)\n",
            "Requirement already satisfied: pillow>=10.2.0 in /usr/local/lib/python3.11/dist-packages (from -r requirements_base.txt (line 18)) (10.4.0)\n",
            "Requirement already satisfied: onnxruntime-gpu==1.18.0 in /usr/local/lib/python3.11/dist-packages (from -r requirements.txt (line 3)) (1.18.0)\n",
            "Requirement already satisfied: transformers==4.38.0 in /usr/local/lib/python3.11/dist-packages (from -r requirements.txt (line 4)) (4.38.0)\n",
            "Requirement already satisfied: markdown-it-py>=2.2.0 in /usr/local/lib/python3.11/dist-packages (from rich==13.7.1->-r requirements_base.txt (line 8)) (3.0.0)\n",
            "Requirement already satisfied: pygments<3.0.0,>=2.13.0 in /usr/local/lib/python3.11/dist-packages (from rich==13.7.1->-r requirements_base.txt (line 8)) (2.19.1)\n",
            "Requirement already satisfied: future in /usr/local/lib/python3.11/dist-packages (from ffmpeg-python==0.2.0->-r requirements_base.txt (line 9)) (1.0.0)\n",
            "Requirement already satisfied: protobuf>=3.20.2 in /usr/local/lib/python3.11/dist-packages (from onnx==1.16.1->-r requirements_base.txt (line 10)) (5.29.5)\n",
            "Requirement already satisfied: networkx>=2.8 in /usr/local/lib/python3.11/dist-packages (from scikit-image==0.24.0->-r requirements_base.txt (line 11)) (3.5)\n",
            "Requirement already satisfied: tifffile>=2022.8.12 in /usr/local/lib/python3.11/dist-packages (from scikit-image==0.24.0->-r requirements_base.txt (line 11)) (2025.5.26)\n",
            "Requirement already satisfied: packaging>=21 in /usr/local/lib/python3.11/dist-packages (from scikit-image==0.24.0->-r requirements_base.txt (line 11)) (24.2)\n",
            "Requirement already satisfied: lazy-loader>=0.4 in /usr/local/lib/python3.11/dist-packages (from scikit-image==0.24.0->-r requirements_base.txt (line 11)) (0.4)\n",
            "Requirement already satisfied: typing-extensions>=4.9.0 in /usr/local/lib/python3.11/dist-packages (from albumentations==1.4.10->-r requirements_base.txt (line 12)) (4.13.2)\n",
            "Requirement already satisfied: scikit-learn>=1.3.2 in /usr/local/lib/python3.11/dist-packages (from albumentations==1.4.10->-r requirements_base.txt (line 12)) (1.6.1)\n",
            "Requirement already satisfied: pydantic>=2.7.0 in /usr/local/lib/python3.11/dist-packages (from albumentations==1.4.10->-r requirements_base.txt (line 12)) (2.11.5)\n",
            "Requirement already satisfied: albucore>=0.0.11 in /usr/local/lib/python3.11/dist-packages (from albumentations==1.4.10->-r requirements_base.txt (line 12)) (0.0.24)\n",
            "Requirement already satisfied: opencv-python-headless>=4.9.0.80 in /usr/local/lib/python3.11/dist-packages (from albumentations==1.4.10->-r requirements_base.txt (line 12)) (4.11.0.86)\n",
            "Requirement already satisfied: contourpy>=1.0.1 in /usr/local/lib/python3.11/dist-packages (from matplotlib==3.9.0->-r requirements_base.txt (line 13)) (1.3.2)\n",
            "Requirement already satisfied: cycler>=0.10 in /usr/local/lib/python3.11/dist-packages (from matplotlib==3.9.0->-r requirements_base.txt (line 13)) (0.12.1)\n",
            "Requirement already satisfied: fonttools>=4.22.0 in /usr/local/lib/python3.11/dist-packages (from matplotlib==3.9.0->-r requirements_base.txt (line 13)) (4.58.1)\n",
            "Requirement already satisfied: kiwisolver>=1.3.1 in /usr/local/lib/python3.11/dist-packages (from matplotlib==3.9.0->-r requirements_base.txt (line 13)) (1.4.8)\n",
            "Requirement already satisfied: pyparsing>=2.3.1 in /usr/local/lib/python3.11/dist-packages (from matplotlib==3.9.0->-r requirements_base.txt (line 13)) (3.2.3)\n",
            "Requirement already satisfied: python-dateutil>=2.7 in /usr/local/lib/python3.11/dist-packages (from matplotlib==3.9.0->-r requirements_base.txt (line 13)) (2.9.0.post0)\n",
            "Requirement already satisfied: setuptools in /usr/local/lib/python3.11/dist-packages (from imageio-ffmpeg==0.5.1->-r requirements_base.txt (line 14)) (75.2.0)\n",
            "Requirement already satisfied: docstring-parser>=0.16 in /usr/local/lib/python3.11/dist-packages (from tyro==0.8.5->-r requirements_base.txt (line 15)) (0.16)\n",
            "Requirement already satisfied: shtab>=1.5.6 in /usr/local/lib/python3.11/dist-packages (from tyro==0.8.5->-r requirements_base.txt (line 15)) (1.7.2)\n",
            "Requirement already satisfied: aiofiles<24.0,>=22.0 in /usr/local/lib/python3.11/dist-packages (from gradio==5.1.0->-r requirements_base.txt (line 16)) (23.2.1)\n",
            "Requirement already satisfied: anyio<5.0,>=3.0 in /usr/local/lib/python3.11/dist-packages (from gradio==5.1.0->-r requirements_base.txt (line 16)) (4.9.0)\n",
            "Requirement already satisfied: fastapi<1.0 in /usr/local/lib/python3.11/dist-packages (from gradio==5.1.0->-r requirements_base.txt (line 16)) (0.115.12)\n",
            "Requirement already satisfied: ffmpy in /usr/local/lib/python3.11/dist-packages (from gradio==5.1.0->-r requirements_base.txt (line 16)) (0.5.0)\n",
            "Requirement already satisfied: gradio-client==1.4.0 in /usr/local/lib/python3.11/dist-packages (from gradio==5.1.0->-r requirements_base.txt (line 16)) (1.4.0)\n",
            "Requirement already satisfied: httpx>=0.24.1 in /usr/local/lib/python3.11/dist-packages (from gradio==5.1.0->-r requirements_base.txt (line 16)) (0.28.1)\n",
            "Requirement already satisfied: huggingface-hub>=0.25.1 in /usr/local/lib/python3.11/dist-packages (from gradio==5.1.0->-r requirements_base.txt (line 16)) (0.32.2)\n",
            "Requirement already satisfied: jinja2<4.0 in /usr/local/lib/python3.11/dist-packages (from gradio==5.1.0->-r requirements_base.txt (line 16)) (3.1.6)\n",
            "Requirement already satisfied: markupsafe~=2.0 in /usr/local/lib/python3.11/dist-packages (from gradio==5.1.0->-r requirements_base.txt (line 16)) (2.1.5)\n",
            "Requirement already satisfied: orjson~=3.0 in /usr/local/lib/python3.11/dist-packages (from gradio==5.1.0->-r requirements_base.txt (line 16)) (3.10.18)\n",
            "Requirement already satisfied: pandas<3.0,>=1.0 in /usr/local/lib/python3.11/dist-packages (from gradio==5.1.0->-r requirements_base.txt (line 16)) (2.2.2)\n",
            "Requirement already satisfied: pydub in /usr/local/lib/python3.11/dist-packages (from gradio==5.1.0->-r requirements_base.txt (line 16)) (0.25.1)\n",
            "Requirement already satisfied: python-multipart>=0.0.9 in /usr/local/lib/python3.11/dist-packages (from gradio==5.1.0->-r requirements_base.txt (line 16)) (0.0.20)\n",
            "Requirement already satisfied: ruff>=0.2.2 in /usr/local/lib/python3.11/dist-packages (from gradio==5.1.0->-r requirements_base.txt (line 16)) (0.11.12)\n",
            "Requirement already satisfied: semantic-version~=2.0 in /usr/local/lib/python3.11/dist-packages (from gradio==5.1.0->-r requirements_base.txt (line 16)) (2.10.0)\n",
            "Requirement already satisfied: tomlkit==0.12.0 in /usr/local/lib/python3.11/dist-packages (from gradio==5.1.0->-r requirements_base.txt (line 16)) (0.12.0)\n",
            "Requirement already satisfied: typer<1.0,>=0.12 in /usr/local/lib/python3.11/dist-packages (from gradio==5.1.0->-r requirements_base.txt (line 16)) (0.16.0)\n",
            "Requirement already satisfied: uvicorn>=0.14.0 in /usr/local/lib/python3.11/dist-packages (from gradio==5.1.0->-r requirements_base.txt (line 16)) (0.34.2)\n",
            "Requirement already satisfied: coloredlogs in /usr/local/lib/python3.11/dist-packages (from onnxruntime-gpu==1.18.0->-r requirements.txt (line 3)) (15.0.1)\n",
            "Requirement already satisfied: flatbuffers in /usr/local/lib/python3.11/dist-packages (from onnxruntime-gpu==1.18.0->-r requirements.txt (line 3)) (25.2.10)\n",
            "Requirement already satisfied: sympy in /usr/local/lib/python3.11/dist-packages (from onnxruntime-gpu==1.18.0->-r requirements.txt (line 3)) (1.13.1)\n",
            "Requirement already satisfied: filelock in /usr/local/lib/python3.11/dist-packages (from transformers==4.38.0->-r requirements.txt (line 4)) (3.18.0)\n",
            "Requirement already satisfied: regex!=2019.12.17 in /usr/local/lib/python3.11/dist-packages (from transformers==4.38.0->-r requirements.txt (line 4)) (2024.11.6)\n",
            "Requirement already satisfied: requests in /usr/local/lib/python3.11/dist-packages (from transformers==4.38.0->-r requirements.txt (line 4)) (2.32.3)\n",
            "Requirement already satisfied: tokenizers<0.19,>=0.14 in /usr/local/lib/python3.11/dist-packages (from transformers==4.38.0->-r requirements.txt (line 4)) (0.15.2)\n",
            "Requirement already satisfied: safetensors>=0.4.1 in /usr/local/lib/python3.11/dist-packages (from transformers==4.38.0->-r requirements.txt (line 4)) (0.5.3)\n",
            "Requirement already satisfied: fsspec in /usr/local/lib/python3.11/dist-packages (from gradio-client==1.4.0->gradio==5.1.0->-r requirements_base.txt (line 16)) (2025.3.2)\n",
            "Requirement already satisfied: websockets<13.0,>=10.0 in /usr/local/lib/python3.11/dist-packages (from gradio-client==1.4.0->gradio==5.1.0->-r requirements_base.txt (line 16)) (12.0)\n",
            "Requirement already satisfied: stringzilla>=3.10.4 in /usr/local/lib/python3.11/dist-packages (from albucore>=0.0.11->albumentations==1.4.10->-r requirements_base.txt (line 12)) (3.12.5)\n",
            "Requirement already satisfied: simsimd>=5.9.2 in /usr/local/lib/python3.11/dist-packages (from albucore>=0.0.11->albumentations==1.4.10->-r requirements_base.txt (line 12)) (6.2.1)\n",
            "Requirement already satisfied: idna>=2.8 in /usr/local/lib/python3.11/dist-packages (from anyio<5.0,>=3.0->gradio==5.1.0->-r requirements_base.txt (line 16)) (3.10)\n",
            "Requirement already satisfied: sniffio>=1.1 in /usr/local/lib/python3.11/dist-packages (from anyio<5.0,>=3.0->gradio==5.1.0->-r requirements_base.txt (line 16)) (1.3.1)\n",
            "Requirement already satisfied: starlette<0.47.0,>=0.40.0 in /usr/local/lib/python3.11/dist-packages (from fastapi<1.0->gradio==5.1.0->-r requirements_base.txt (line 16)) (0.46.2)\n",
            "Requirement already satisfied: certifi in /usr/local/lib/python3.11/dist-packages (from httpx>=0.24.1->gradio==5.1.0->-r requirements_base.txt (line 16)) (2025.4.26)\n",
            "Requirement already satisfied: httpcore==1.* in /usr/local/lib/python3.11/dist-packages (from httpx>=0.24.1->gradio==5.1.0->-r requirements_base.txt (line 16)) (1.0.9)\n",
            "Requirement already satisfied: h11>=0.16 in /usr/local/lib/python3.11/dist-packages (from httpcore==1.*->httpx>=0.24.1->gradio==5.1.0->-r requirements_base.txt (line 16)) (0.16.0)\n",
            "Requirement already satisfied: hf-xet<2.0.0,>=1.1.2 in /usr/local/lib/python3.11/dist-packages (from huggingface-hub>=0.25.1->gradio==5.1.0->-r requirements_base.txt (line 16)) (1.1.2)\n",
            "Requirement already satisfied: mdurl~=0.1 in /usr/local/lib/python3.11/dist-packages (from markdown-it-py>=2.2.0->rich==13.7.1->-r requirements_base.txt (line 8)) (0.1.2)\n",
            "Requirement already satisfied: pytz>=2020.1 in /usr/local/lib/python3.11/dist-packages (from pandas<3.0,>=1.0->gradio==5.1.0->-r requirements_base.txt (line 16)) (2025.2)\n",
            "Requirement already satisfied: tzdata>=2022.7 in /usr/local/lib/python3.11/dist-packages (from pandas<3.0,>=1.0->gradio==5.1.0->-r requirements_base.txt (line 16)) (2025.2)\n",
            "Requirement already satisfied: annotated-types>=0.6.0 in /usr/local/lib/python3.11/dist-packages (from pydantic>=2.7.0->albumentations==1.4.10->-r requirements_base.txt (line 12)) (0.7.0)\n",
            "Requirement already satisfied: pydantic-core==2.33.2 in /usr/local/lib/python3.11/dist-packages (from pydantic>=2.7.0->albumentations==1.4.10->-r requirements_base.txt (line 12)) (2.33.2)\n",
            "Requirement already satisfied: typing-inspection>=0.4.0 in /usr/local/lib/python3.11/dist-packages (from pydantic>=2.7.0->albumentations==1.4.10->-r requirements_base.txt (line 12)) (0.4.1)\n",
            "Requirement already satisfied: six>=1.5 in /usr/local/lib/python3.11/dist-packages (from python-dateutil>=2.7->matplotlib==3.9.0->-r requirements_base.txt (line 13)) (1.17.0)\n",
            "Requirement already satisfied: joblib>=1.2.0 in /usr/local/lib/python3.11/dist-packages (from scikit-learn>=1.3.2->albumentations==1.4.10->-r requirements_base.txt (line 12)) (1.5.1)\n",
            "Requirement already satisfied: threadpoolctl>=3.1.0 in /usr/local/lib/python3.11/dist-packages (from scikit-learn>=1.3.2->albumentations==1.4.10->-r requirements_base.txt (line 12)) (3.6.0)\n",
            "Requirement already satisfied: click>=8.0.0 in /usr/local/lib/python3.11/dist-packages (from typer<1.0,>=0.12->gradio==5.1.0->-r requirements_base.txt (line 16)) (8.2.1)\n",
            "Requirement already satisfied: shellingham>=1.3.0 in /usr/local/lib/python3.11/dist-packages (from typer<1.0,>=0.12->gradio==5.1.0->-r requirements_base.txt (line 16)) (1.5.4)\n",
            "Requirement already satisfied: humanfriendly>=9.1 in /usr/local/lib/python3.11/dist-packages (from coloredlogs->onnxruntime-gpu==1.18.0->-r requirements.txt (line 3)) (10.0)\n",
            "Requirement already satisfied: charset-normalizer<4,>=2 in /usr/local/lib/python3.11/dist-packages (from requests->transformers==4.38.0->-r requirements.txt (line 4)) (3.4.2)\n",
            "Requirement already satisfied: urllib3<3,>=1.21.1 in /usr/local/lib/python3.11/dist-packages (from requests->transformers==4.38.0->-r requirements.txt (line 4)) (2.4.0)\n",
            "Requirement already satisfied: mpmath<1.4,>=1.1.0 in /usr/local/lib/python3.11/dist-packages (from sympy->onnxruntime-gpu==1.18.0->-r requirements.txt (line 3)) (1.3.0)\n"
          ]
        }
      ]
    },
    {
      "cell_type": "code",
      "source": [
        "!pip install -r requirements.txt\n",
        "\n"
      ],
      "metadata": {
        "id": "91PrJMraP4vo",
        "colab": {
          "base_uri": "https://localhost:8080/"
        },
        "collapsed": true,
        "outputId": "8363d8f6-1a69-4bb2-ea9c-9fcd6991c5b2"
      },
      "execution_count": null,
      "outputs": [
        {
          "output_type": "stream",
          "name": "stdout",
          "text": [
            "Requirement already satisfied: numpy==1.26.4 in /usr/local/lib/python3.11/dist-packages (from -r requirements_base.txt (line 1)) (1.26.4)\n",
            "Requirement already satisfied: pyyaml==6.0.1 in /usr/local/lib/python3.11/dist-packages (from -r requirements_base.txt (line 2)) (6.0.1)\n",
            "Requirement already satisfied: opencv-python==4.10.0.84 in /usr/local/lib/python3.11/dist-packages (from -r requirements_base.txt (line 3)) (4.10.0.84)\n",
            "Requirement already satisfied: scipy==1.13.1 in /usr/local/lib/python3.11/dist-packages (from -r requirements_base.txt (line 4)) (1.13.1)\n",
            "Requirement already satisfied: imageio==2.34.2 in /usr/local/lib/python3.11/dist-packages (from -r requirements_base.txt (line 5)) (2.34.2)\n",
            "Requirement already satisfied: lmdb==1.4.1 in /usr/local/lib/python3.11/dist-packages (from -r requirements_base.txt (line 6)) (1.4.1)\n",
            "Requirement already satisfied: tqdm==4.66.4 in /usr/local/lib/python3.11/dist-packages (from -r requirements_base.txt (line 7)) (4.66.4)\n",
            "Requirement already satisfied: rich==13.7.1 in /usr/local/lib/python3.11/dist-packages (from -r requirements_base.txt (line 8)) (13.7.1)\n",
            "Requirement already satisfied: ffmpeg-python==0.2.0 in /usr/local/lib/python3.11/dist-packages (from -r requirements_base.txt (line 9)) (0.2.0)\n",
            "Requirement already satisfied: onnx==1.16.1 in /usr/local/lib/python3.11/dist-packages (from -r requirements_base.txt (line 10)) (1.16.1)\n",
            "Requirement already satisfied: scikit-image==0.24.0 in /usr/local/lib/python3.11/dist-packages (from -r requirements_base.txt (line 11)) (0.24.0)\n",
            "Requirement already satisfied: albumentations==1.4.10 in /usr/local/lib/python3.11/dist-packages (from -r requirements_base.txt (line 12)) (1.4.10)\n",
            "Requirement already satisfied: matplotlib==3.9.0 in /usr/local/lib/python3.11/dist-packages (from -r requirements_base.txt (line 13)) (3.9.0)\n",
            "Requirement already satisfied: imageio-ffmpeg==0.5.1 in /usr/local/lib/python3.11/dist-packages (from -r requirements_base.txt (line 14)) (0.5.1)\n",
            "Requirement already satisfied: tyro==0.8.5 in /usr/local/lib/python3.11/dist-packages (from -r requirements_base.txt (line 15)) (0.8.5)\n",
            "Requirement already satisfied: gradio==5.1.0 in /usr/local/lib/python3.11/dist-packages (from -r requirements_base.txt (line 16)) (5.1.0)\n",
            "Requirement already satisfied: pykalman==0.9.7 in /usr/local/lib/python3.11/dist-packages (from -r requirements_base.txt (line 17)) (0.9.7)\n",
            "Requirement already satisfied: pillow>=10.2.0 in /usr/local/lib/python3.11/dist-packages (from -r requirements_base.txt (line 18)) (10.4.0)\n",
            "Requirement already satisfied: onnxruntime-gpu==1.18.0 in /usr/local/lib/python3.11/dist-packages (from -r requirements.txt (line 3)) (1.18.0)\n",
            "Requirement already satisfied: transformers==4.38.0 in /usr/local/lib/python3.11/dist-packages (from -r requirements.txt (line 4)) (4.38.0)\n",
            "Requirement already satisfied: markdown-it-py>=2.2.0 in /usr/local/lib/python3.11/dist-packages (from rich==13.7.1->-r requirements_base.txt (line 8)) (3.0.0)\n",
            "Requirement already satisfied: pygments<3.0.0,>=2.13.0 in /usr/local/lib/python3.11/dist-packages (from rich==13.7.1->-r requirements_base.txt (line 8)) (2.19.1)\n",
            "Requirement already satisfied: future in /usr/local/lib/python3.11/dist-packages (from ffmpeg-python==0.2.0->-r requirements_base.txt (line 9)) (1.0.0)\n",
            "Requirement already satisfied: protobuf>=3.20.2 in /usr/local/lib/python3.11/dist-packages (from onnx==1.16.1->-r requirements_base.txt (line 10)) (5.29.5)\n",
            "Requirement already satisfied: networkx>=2.8 in /usr/local/lib/python3.11/dist-packages (from scikit-image==0.24.0->-r requirements_base.txt (line 11)) (3.5)\n",
            "Requirement already satisfied: tifffile>=2022.8.12 in /usr/local/lib/python3.11/dist-packages (from scikit-image==0.24.0->-r requirements_base.txt (line 11)) (2025.5.26)\n",
            "Requirement already satisfied: packaging>=21 in /usr/local/lib/python3.11/dist-packages (from scikit-image==0.24.0->-r requirements_base.txt (line 11)) (24.2)\n",
            "Requirement already satisfied: lazy-loader>=0.4 in /usr/local/lib/python3.11/dist-packages (from scikit-image==0.24.0->-r requirements_base.txt (line 11)) (0.4)\n",
            "Requirement already satisfied: typing-extensions>=4.9.0 in /usr/local/lib/python3.11/dist-packages (from albumentations==1.4.10->-r requirements_base.txt (line 12)) (4.13.2)\n",
            "Requirement already satisfied: scikit-learn>=1.3.2 in /usr/local/lib/python3.11/dist-packages (from albumentations==1.4.10->-r requirements_base.txt (line 12)) (1.6.1)\n",
            "Requirement already satisfied: pydantic>=2.7.0 in /usr/local/lib/python3.11/dist-packages (from albumentations==1.4.10->-r requirements_base.txt (line 12)) (2.11.5)\n",
            "Requirement already satisfied: albucore>=0.0.11 in /usr/local/lib/python3.11/dist-packages (from albumentations==1.4.10->-r requirements_base.txt (line 12)) (0.0.24)\n",
            "Requirement already satisfied: opencv-python-headless>=4.9.0.80 in /usr/local/lib/python3.11/dist-packages (from albumentations==1.4.10->-r requirements_base.txt (line 12)) (4.11.0.86)\n",
            "Requirement already satisfied: contourpy>=1.0.1 in /usr/local/lib/python3.11/dist-packages (from matplotlib==3.9.0->-r requirements_base.txt (line 13)) (1.3.2)\n",
            "Requirement already satisfied: cycler>=0.10 in /usr/local/lib/python3.11/dist-packages (from matplotlib==3.9.0->-r requirements_base.txt (line 13)) (0.12.1)\n",
            "Requirement already satisfied: fonttools>=4.22.0 in /usr/local/lib/python3.11/dist-packages (from matplotlib==3.9.0->-r requirements_base.txt (line 13)) (4.58.1)\n",
            "Requirement already satisfied: kiwisolver>=1.3.1 in /usr/local/lib/python3.11/dist-packages (from matplotlib==3.9.0->-r requirements_base.txt (line 13)) (1.4.8)\n",
            "Requirement already satisfied: pyparsing>=2.3.1 in /usr/local/lib/python3.11/dist-packages (from matplotlib==3.9.0->-r requirements_base.txt (line 13)) (3.2.3)\n",
            "Requirement already satisfied: python-dateutil>=2.7 in /usr/local/lib/python3.11/dist-packages (from matplotlib==3.9.0->-r requirements_base.txt (line 13)) (2.9.0.post0)\n",
            "Requirement already satisfied: setuptools in /usr/local/lib/python3.11/dist-packages (from imageio-ffmpeg==0.5.1->-r requirements_base.txt (line 14)) (75.2.0)\n",
            "Requirement already satisfied: docstring-parser>=0.16 in /usr/local/lib/python3.11/dist-packages (from tyro==0.8.5->-r requirements_base.txt (line 15)) (0.16)\n",
            "Requirement already satisfied: shtab>=1.5.6 in /usr/local/lib/python3.11/dist-packages (from tyro==0.8.5->-r requirements_base.txt (line 15)) (1.7.2)\n",
            "Requirement already satisfied: aiofiles<24.0,>=22.0 in /usr/local/lib/python3.11/dist-packages (from gradio==5.1.0->-r requirements_base.txt (line 16)) (23.2.1)\n",
            "Requirement already satisfied: anyio<5.0,>=3.0 in /usr/local/lib/python3.11/dist-packages (from gradio==5.1.0->-r requirements_base.txt (line 16)) (4.9.0)\n",
            "Requirement already satisfied: fastapi<1.0 in /usr/local/lib/python3.11/dist-packages (from gradio==5.1.0->-r requirements_base.txt (line 16)) (0.115.12)\n",
            "Requirement already satisfied: ffmpy in /usr/local/lib/python3.11/dist-packages (from gradio==5.1.0->-r requirements_base.txt (line 16)) (0.5.0)\n",
            "Requirement already satisfied: gradio-client==1.4.0 in /usr/local/lib/python3.11/dist-packages (from gradio==5.1.0->-r requirements_base.txt (line 16)) (1.4.0)\n",
            "Requirement already satisfied: httpx>=0.24.1 in /usr/local/lib/python3.11/dist-packages (from gradio==5.1.0->-r requirements_base.txt (line 16)) (0.28.1)\n",
            "Requirement already satisfied: huggingface-hub>=0.25.1 in /usr/local/lib/python3.11/dist-packages (from gradio==5.1.0->-r requirements_base.txt (line 16)) (0.32.2)\n",
            "Requirement already satisfied: jinja2<4.0 in /usr/local/lib/python3.11/dist-packages (from gradio==5.1.0->-r requirements_base.txt (line 16)) (3.1.6)\n",
            "Requirement already satisfied: markupsafe~=2.0 in /usr/local/lib/python3.11/dist-packages (from gradio==5.1.0->-r requirements_base.txt (line 16)) (2.1.5)\n",
            "Requirement already satisfied: orjson~=3.0 in /usr/local/lib/python3.11/dist-packages (from gradio==5.1.0->-r requirements_base.txt (line 16)) (3.10.18)\n",
            "Requirement already satisfied: pandas<3.0,>=1.0 in /usr/local/lib/python3.11/dist-packages (from gradio==5.1.0->-r requirements_base.txt (line 16)) (2.2.2)\n",
            "Requirement already satisfied: pydub in /usr/local/lib/python3.11/dist-packages (from gradio==5.1.0->-r requirements_base.txt (line 16)) (0.25.1)\n",
            "Requirement already satisfied: python-multipart>=0.0.9 in /usr/local/lib/python3.11/dist-packages (from gradio==5.1.0->-r requirements_base.txt (line 16)) (0.0.20)\n",
            "Requirement already satisfied: ruff>=0.2.2 in /usr/local/lib/python3.11/dist-packages (from gradio==5.1.0->-r requirements_base.txt (line 16)) (0.11.12)\n",
            "Requirement already satisfied: semantic-version~=2.0 in /usr/local/lib/python3.11/dist-packages (from gradio==5.1.0->-r requirements_base.txt (line 16)) (2.10.0)\n",
            "Requirement already satisfied: tomlkit==0.12.0 in /usr/local/lib/python3.11/dist-packages (from gradio==5.1.0->-r requirements_base.txt (line 16)) (0.12.0)\n",
            "Requirement already satisfied: typer<1.0,>=0.12 in /usr/local/lib/python3.11/dist-packages (from gradio==5.1.0->-r requirements_base.txt (line 16)) (0.16.0)\n",
            "Requirement already satisfied: uvicorn>=0.14.0 in /usr/local/lib/python3.11/dist-packages (from gradio==5.1.0->-r requirements_base.txt (line 16)) (0.34.2)\n",
            "Requirement already satisfied: coloredlogs in /usr/local/lib/python3.11/dist-packages (from onnxruntime-gpu==1.18.0->-r requirements.txt (line 3)) (15.0.1)\n",
            "Requirement already satisfied: flatbuffers in /usr/local/lib/python3.11/dist-packages (from onnxruntime-gpu==1.18.0->-r requirements.txt (line 3)) (25.2.10)\n",
            "Requirement already satisfied: sympy in /usr/local/lib/python3.11/dist-packages (from onnxruntime-gpu==1.18.0->-r requirements.txt (line 3)) (1.13.1)\n",
            "Requirement already satisfied: filelock in /usr/local/lib/python3.11/dist-packages (from transformers==4.38.0->-r requirements.txt (line 4)) (3.18.0)\n",
            "Requirement already satisfied: regex!=2019.12.17 in /usr/local/lib/python3.11/dist-packages (from transformers==4.38.0->-r requirements.txt (line 4)) (2024.11.6)\n",
            "Requirement already satisfied: requests in /usr/local/lib/python3.11/dist-packages (from transformers==4.38.0->-r requirements.txt (line 4)) (2.32.3)\n",
            "Requirement already satisfied: tokenizers<0.19,>=0.14 in /usr/local/lib/python3.11/dist-packages (from transformers==4.38.0->-r requirements.txt (line 4)) (0.15.2)\n",
            "Requirement already satisfied: safetensors>=0.4.1 in /usr/local/lib/python3.11/dist-packages (from transformers==4.38.0->-r requirements.txt (line 4)) (0.5.3)\n",
            "Requirement already satisfied: fsspec in /usr/local/lib/python3.11/dist-packages (from gradio-client==1.4.0->gradio==5.1.0->-r requirements_base.txt (line 16)) (2025.3.2)\n",
            "Requirement already satisfied: websockets<13.0,>=10.0 in /usr/local/lib/python3.11/dist-packages (from gradio-client==1.4.0->gradio==5.1.0->-r requirements_base.txt (line 16)) (12.0)\n",
            "Requirement already satisfied: stringzilla>=3.10.4 in /usr/local/lib/python3.11/dist-packages (from albucore>=0.0.11->albumentations==1.4.10->-r requirements_base.txt (line 12)) (3.12.5)\n",
            "Requirement already satisfied: simsimd>=5.9.2 in /usr/local/lib/python3.11/dist-packages (from albucore>=0.0.11->albumentations==1.4.10->-r requirements_base.txt (line 12)) (6.2.1)\n",
            "Requirement already satisfied: idna>=2.8 in /usr/local/lib/python3.11/dist-packages (from anyio<5.0,>=3.0->gradio==5.1.0->-r requirements_base.txt (line 16)) (3.10)\n",
            "Requirement already satisfied: sniffio>=1.1 in /usr/local/lib/python3.11/dist-packages (from anyio<5.0,>=3.0->gradio==5.1.0->-r requirements_base.txt (line 16)) (1.3.1)\n",
            "Requirement already satisfied: starlette<0.47.0,>=0.40.0 in /usr/local/lib/python3.11/dist-packages (from fastapi<1.0->gradio==5.1.0->-r requirements_base.txt (line 16)) (0.46.2)\n",
            "Requirement already satisfied: certifi in /usr/local/lib/python3.11/dist-packages (from httpx>=0.24.1->gradio==5.1.0->-r requirements_base.txt (line 16)) (2025.4.26)\n",
            "Requirement already satisfied: httpcore==1.* in /usr/local/lib/python3.11/dist-packages (from httpx>=0.24.1->gradio==5.1.0->-r requirements_base.txt (line 16)) (1.0.9)\n",
            "Requirement already satisfied: h11>=0.16 in /usr/local/lib/python3.11/dist-packages (from httpcore==1.*->httpx>=0.24.1->gradio==5.1.0->-r requirements_base.txt (line 16)) (0.16.0)\n",
            "Requirement already satisfied: hf-xet<2.0.0,>=1.1.2 in /usr/local/lib/python3.11/dist-packages (from huggingface-hub>=0.25.1->gradio==5.1.0->-r requirements_base.txt (line 16)) (1.1.2)\n",
            "Requirement already satisfied: mdurl~=0.1 in /usr/local/lib/python3.11/dist-packages (from markdown-it-py>=2.2.0->rich==13.7.1->-r requirements_base.txt (line 8)) (0.1.2)\n",
            "Requirement already satisfied: pytz>=2020.1 in /usr/local/lib/python3.11/dist-packages (from pandas<3.0,>=1.0->gradio==5.1.0->-r requirements_base.txt (line 16)) (2025.2)\n",
            "Requirement already satisfied: tzdata>=2022.7 in /usr/local/lib/python3.11/dist-packages (from pandas<3.0,>=1.0->gradio==5.1.0->-r requirements_base.txt (line 16)) (2025.2)\n",
            "Requirement already satisfied: annotated-types>=0.6.0 in /usr/local/lib/python3.11/dist-packages (from pydantic>=2.7.0->albumentations==1.4.10->-r requirements_base.txt (line 12)) (0.7.0)\n",
            "Requirement already satisfied: pydantic-core==2.33.2 in /usr/local/lib/python3.11/dist-packages (from pydantic>=2.7.0->albumentations==1.4.10->-r requirements_base.txt (line 12)) (2.33.2)\n",
            "Requirement already satisfied: typing-inspection>=0.4.0 in /usr/local/lib/python3.11/dist-packages (from pydantic>=2.7.0->albumentations==1.4.10->-r requirements_base.txt (line 12)) (0.4.1)\n",
            "Requirement already satisfied: six>=1.5 in /usr/local/lib/python3.11/dist-packages (from python-dateutil>=2.7->matplotlib==3.9.0->-r requirements_base.txt (line 13)) (1.17.0)\n",
            "Requirement already satisfied: joblib>=1.2.0 in /usr/local/lib/python3.11/dist-packages (from scikit-learn>=1.3.2->albumentations==1.4.10->-r requirements_base.txt (line 12)) (1.5.1)\n",
            "Requirement already satisfied: threadpoolctl>=3.1.0 in /usr/local/lib/python3.11/dist-packages (from scikit-learn>=1.3.2->albumentations==1.4.10->-r requirements_base.txt (line 12)) (3.6.0)\n",
            "Requirement already satisfied: click>=8.0.0 in /usr/local/lib/python3.11/dist-packages (from typer<1.0,>=0.12->gradio==5.1.0->-r requirements_base.txt (line 16)) (8.2.1)\n",
            "Requirement already satisfied: shellingham>=1.3.0 in /usr/local/lib/python3.11/dist-packages (from typer<1.0,>=0.12->gradio==5.1.0->-r requirements_base.txt (line 16)) (1.5.4)\n",
            "Requirement already satisfied: humanfriendly>=9.1 in /usr/local/lib/python3.11/dist-packages (from coloredlogs->onnxruntime-gpu==1.18.0->-r requirements.txt (line 3)) (10.0)\n",
            "Requirement already satisfied: charset-normalizer<4,>=2 in /usr/local/lib/python3.11/dist-packages (from requests->transformers==4.38.0->-r requirements.txt (line 4)) (3.4.2)\n",
            "Requirement already satisfied: urllib3<3,>=1.21.1 in /usr/local/lib/python3.11/dist-packages (from requests->transformers==4.38.0->-r requirements.txt (line 4)) (2.4.0)\n",
            "Requirement already satisfied: mpmath<1.4,>=1.1.0 in /usr/local/lib/python3.11/dist-packages (from sympy->onnxruntime-gpu==1.18.0->-r requirements.txt (line 3)) (1.3.0)\n"
          ]
        }
      ]
    },
    {
      "cell_type": "code",
      "source": [
        "!bash scripts/download_models.sh\n"
      ],
      "metadata": {
        "colab": {
          "base_uri": "https://localhost:8080/"
        },
        "id": "HAnmU1W-XPBt",
        "outputId": "2b23dd39-2fd5-4550-cb3e-5aa3c21c4409"
      },
      "execution_count": null,
      "outputs": [
        {
          "output_type": "stream",
          "name": "stdout",
          "text": [
            "bash: scripts/download_models.sh: No such file or directory\n"
          ]
        }
      ]
    },
    {
      "cell_type": "code",
      "source": [
        "import time\n",
        "\n",
        "start = time.time()\n",
        "\n",
        "!python inference.py \\\n",
        "  --source inputs/source_small.png \\\n",
        "  --driving inputs/audio.wav \\\n",
        "  --output-dir outputs_small\n",
        "\n",
        "end = time.time()\n",
        "print(f\"\\n⚡️ Optimized Inference Time: {end - start:.2f} seconds\")\n",
        "\n"
      ],
      "metadata": {
        "colab": {
          "base_uri": "https://localhost:8080/"
        },
        "id": "mfz3iHH0XW7S",
        "outputId": "9d05408a-1595-4b0f-b8c1-7f3d54ccb339"
      },
      "execution_count": null,
      "outputs": [
        {
          "output_type": "stream",
          "name": "stdout",
          "text": [
            "python3: can't open file '/content/inference.py': [Errno 2] No such file or directory\n",
            "\n",
            "⚡️ Optimized Inference Time: 0.22 seconds\n"
          ]
        }
      ]
    },
    {
      "cell_type": "code",
      "source": [
        "# Create inputs folder and download test files\n",
        "!mkdir -p inputs\n",
        "!wget -O inputs/source.png https://raw.githubusercontent.com/KwaiVGI/LivePortrait/main/assets/01.png\n",
        "!wget -O inputs/audio.wav https://raw.githubusercontent.com/KwaiVGI/LivePortrait/main/assets/01.wav\n"
      ],
      "metadata": {
        "colab": {
          "base_uri": "https://localhost:8080/"
        },
        "id": "FoTQ35uuYmMx",
        "outputId": "6b3ad0e6-bc27-4649-dca7-fdd0e6ad49c1"
      },
      "execution_count": null,
      "outputs": [
        {
          "output_type": "stream",
          "name": "stdout",
          "text": [
            "--2025-06-04 10:00:33--  https://raw.githubusercontent.com/KwaiVGI/LivePortrait/main/assets/01.png\n",
            "Resolving raw.githubusercontent.com (raw.githubusercontent.com)... 185.199.108.133, 185.199.109.133, 185.199.110.133, ...\n",
            "Connecting to raw.githubusercontent.com (raw.githubusercontent.com)|185.199.108.133|:443... connected.\n",
            "HTTP request sent, awaiting response... 404 Not Found\n",
            "2025-06-04 10:00:33 ERROR 404: Not Found.\n",
            "\n",
            "--2025-06-04 10:00:33--  https://raw.githubusercontent.com/KwaiVGI/LivePortrait/main/assets/01.wav\n",
            "Resolving raw.githubusercontent.com (raw.githubusercontent.com)... 185.199.108.133, 185.199.109.133, 185.199.110.133, ...\n",
            "Connecting to raw.githubusercontent.com (raw.githubusercontent.com)|185.199.108.133|:443... connected.\n",
            "HTTP request sent, awaiting response... 404 Not Found\n",
            "2025-06-04 10:00:33 ERROR 404: Not Found.\n",
            "\n"
          ]
        }
      ]
    },
    {
      "cell_type": "code",
      "source": [
        "import time\n",
        "\n",
        "start = time.time()\n",
        "\n",
        "# Run the model using correct script\n",
        "!python inference.py \\\n",
        "  --driven_audio inputs/audio.wav \\\n",
        "  --source_image inputs/source.png \\\n",
        "  --result_dir outputs \\\n",
        "  --enhancer gfpgan\n",
        "\n",
        "end = time.time()\n",
        "\n",
        "print(f\"Inference Time: {end - start:.2f} seconds\")\n"
      ],
      "metadata": {
        "colab": {
          "base_uri": "https://localhost:8080/"
        },
        "id": "Jvb8VxViYsT3",
        "outputId": "c4d51faa-7d6f-40c1-fff3-6aa0e6f211c1"
      },
      "execution_count": null,
      "outputs": [
        {
          "output_type": "stream",
          "name": "stdout",
          "text": [
            "\u001b[91m╭─\u001b[0m\u001b[91m \u001b[0m\u001b[1;91mUnrecognized options\u001b[0m\u001b[91m \u001b[0m\u001b[91m─────────────────────────────────────────────────────\u001b[0m\u001b[91m─╮\u001b[0m\n",
            "\u001b[91m│\u001b[0m Unrecognized options: --driven-audio --source-image --result-dir --enhancer \u001b[91m│\u001b[0m\n",
            "\u001b[91m│\u001b[0m \u001b[31m───────────────────────────────────────────────────────────────────────────\u001b[0m \u001b[91m│\u001b[0m\n",
            "\u001b[91m│\u001b[0m For full helptext, run \u001b[1minference.py --help\u001b[0m                                  \u001b[91m│\u001b[0m\n",
            "\u001b[91m╰─────────────────────────────────────────────────────────────────────────────╯\u001b[0m\n",
            "Inference Time: 11.34 seconds\n"
          ]
        }
      ]
    },
    {
      "cell_type": "code",
      "source": [
        "!python inference.py --help\n"
      ],
      "metadata": {
        "colab": {
          "base_uri": "https://localhost:8080/"
        },
        "collapsed": true,
        "id": "G5LNvDfyZUl0",
        "outputId": "9550793d-f603-4a5f-e1af-b70df10002f0"
      },
      "execution_count": null,
      "outputs": [
        {
          "output_type": "stream",
          "name": "stdout",
          "text": [
            "\u001b[1musage\u001b[0m: inference.py [-h] [OPTIONS]\n",
            "\n",
            "\u001b[2;96m╭─\u001b[0m\u001b[2;96m options \u001b[0m\u001b[2;96m─────────────────────────────────────────────────────────────────\u001b[0m\u001b[2;96m─╮\u001b[0m\n",
            "\u001b[2;96m│\u001b[0m -h, --help                                                                 \u001b[2;96m│\u001b[0m\n",
            "\u001b[2;96m│\u001b[0m     \u001b[2mshow this help message and exit\u001b[0m                                        \u001b[2;96m│\u001b[0m\n",
            "\u001b[2;96m│\u001b[0m --source \u001b[1;96mSTR\u001b[0m, -s \u001b[1;96mSTR\u001b[0m                                                       \u001b[2;96m│\u001b[0m\n",
            "\u001b[2;96m│\u001b[0m     \u001b[2mpath to the source portrait (human/animal) or video (human)\u001b[0m \u001b[36m(default: \u001b[0m \u001b[2;96m│\u001b[0m\n",
            "\u001b[2;96m│\u001b[0m     \u001b[36m/content/LivePortrait/src/config/../../assets/examples/source/s0.jpg)\u001b[0m  \u001b[2;96m│\u001b[0m\n",
            "\u001b[2;96m│\u001b[0m --driving \u001b[1;96mSTR\u001b[0m, -d \u001b[1;96mSTR\u001b[0m                                                      \u001b[2;96m│\u001b[0m\n",
            "\u001b[2;96m│\u001b[0m     \u001b[2mpath to driving video or template (.pkl format)\u001b[0m \u001b[36m(default: \u001b[0m             \u001b[2;96m│\u001b[0m\n",
            "\u001b[2;96m│\u001b[0m     \u001b[36m/content/LivePortrait/src/config/../../assets/examples/driving/d0.mp4)\u001b[0m \u001b[2;96m│\u001b[0m\n",
            "\u001b[2;96m│\u001b[0m --output-dir \u001b[1;96mSTR\u001b[0m, -o \u001b[1;96mSTR\u001b[0m                                                   \u001b[2;96m│\u001b[0m\n",
            "\u001b[2;96m│\u001b[0m     \u001b[2mdirectory to save output video\u001b[0m \u001b[36m(default: animations/)\u001b[0m                  \u001b[2;96m│\u001b[0m\n",
            "\u001b[2;96m│\u001b[0m --flag-use-half-precision, --no-flag-use-half-precision                    \u001b[2;96m│\u001b[0m\n",
            "\u001b[2;96m│\u001b[0m     \u001b[2mwhether to use half precision (FP16). If black boxes appear, it might \u001b[0m \u001b[2;96m│\u001b[0m\n",
            "\u001b[2;96m│\u001b[0m     \u001b[2mbe due to GPU incompatibility; set to False.\u001b[0m \u001b[36m(default: True)\u001b[0m           \u001b[2;96m│\u001b[0m\n",
            "\u001b[2;96m│\u001b[0m --flag-crop-driving-video, --no-flag-crop-driving-video                    \u001b[2;96m│\u001b[0m\n",
            "\u001b[2;96m│\u001b[0m     \u001b[2mwhether to crop the driving video, if the given driving info is a \u001b[0m     \u001b[2;96m│\u001b[0m\n",
            "\u001b[2;96m│\u001b[0m     \u001b[2mvideo\u001b[0m \u001b[36m(default: False)\u001b[0m                                                 \u001b[2;96m│\u001b[0m\n",
            "\u001b[2;96m│\u001b[0m --device-id \u001b[1;96mINT\u001b[0m                                                            \u001b[2;96m│\u001b[0m\n",
            "\u001b[2;96m│\u001b[0m     \u001b[2mgpu device id\u001b[0m \u001b[36m(default: 0)\u001b[0m                                             \u001b[2;96m│\u001b[0m\n",
            "\u001b[2;96m│\u001b[0m --flag-force-cpu, --no-flag-force-cpu                                      \u001b[2;96m│\u001b[0m\n",
            "\u001b[2;96m│\u001b[0m     \u001b[2mforce cpu inference, WIP!\u001b[0m \u001b[36m(default: False)\u001b[0m                             \u001b[2;96m│\u001b[0m\n",
            "\u001b[2;96m│\u001b[0m --flag-normalize-lip, --no-flag-normalize-lip                              \u001b[2;96m│\u001b[0m\n",
            "\u001b[2;96m│\u001b[0m     \u001b[2mwhether to let the lip to close state before animation, only take \u001b[0m     \u001b[2;96m│\u001b[0m\n",
            "\u001b[2;96m│\u001b[0m     \u001b[2meffect when flag_eye_retargeting and flag_lip_retargeting is False\u001b[0m     \u001b[2;96m│\u001b[0m\n",
            "\u001b[2;96m│\u001b[0m     \u001b[36m(default: False)\u001b[0m                                                       \u001b[2;96m│\u001b[0m\n",
            "\u001b[2;96m│\u001b[0m --flag-source-video-eye-retargeting,                                       \u001b[2;96m│\u001b[0m\n",
            "\u001b[2;96m│\u001b[0m --no-flag-source-video-eye-retargeting                                     \u001b[2;96m│\u001b[0m\n",
            "\u001b[2;96m│\u001b[0m     \u001b[2mwhen the input is a source video, whether to let the eye-open scalar \u001b[0m  \u001b[2;96m│\u001b[0m\n",
            "\u001b[2;96m│\u001b[0m     \u001b[2mof each frame to be the same as the first source frame before the \u001b[0m     \u001b[2;96m│\u001b[0m\n",
            "\u001b[2;96m│\u001b[0m     \u001b[2manimation, only take effect when flag_eye_retargeting and \u001b[0m             \u001b[2;96m│\u001b[0m\n",
            "\u001b[2;96m│\u001b[0m     \u001b[2mflag_lip_retargeting is False, may cause the inter-frame jittering\u001b[0m     \u001b[2;96m│\u001b[0m\n",
            "\u001b[2;96m│\u001b[0m     \u001b[36m(default: False)\u001b[0m                                                       \u001b[2;96m│\u001b[0m\n",
            "\u001b[2;96m│\u001b[0m --flag-eye-retargeting, --no-flag-eye-retargeting                          \u001b[2;96m│\u001b[0m\n",
            "\u001b[2;96m│\u001b[0m     \u001b[2mnot recommend to be True, WIP; whether to transfer the eyes-open ratio\u001b[0m \u001b[2;96m│\u001b[0m\n",
            "\u001b[2;96m│\u001b[0m     \u001b[2mof each driving frame to the source image or the corresponding source \u001b[0m \u001b[2;96m│\u001b[0m\n",
            "\u001b[2;96m│\u001b[0m     \u001b[2mframe\u001b[0m \u001b[36m(default: False)\u001b[0m                                                 \u001b[2;96m│\u001b[0m\n",
            "\u001b[2;96m│\u001b[0m --flag-lip-retargeting, --no-flag-lip-retargeting                          \u001b[2;96m│\u001b[0m\n",
            "\u001b[2;96m│\u001b[0m     \u001b[2mnot recommend to be True, WIP; whether to transfer the lip-open ratio \u001b[0m \u001b[2;96m│\u001b[0m\n",
            "\u001b[2;96m│\u001b[0m     \u001b[2mof each driving frame to the source image or the corresponding source \u001b[0m \u001b[2;96m│\u001b[0m\n",
            "\u001b[2;96m│\u001b[0m     \u001b[2mframe\u001b[0m \u001b[36m(default: False)\u001b[0m                                                 \u001b[2;96m│\u001b[0m\n",
            "\u001b[2;96m│\u001b[0m --flag-stitching, --no-flag-stitching                                      \u001b[2;96m│\u001b[0m\n",
            "\u001b[2;96m│\u001b[0m     \u001b[2mrecommend to True if head movement is small, False if head movement is\u001b[0m \u001b[2;96m│\u001b[0m\n",
            "\u001b[2;96m│\u001b[0m     \u001b[2mlarge or the source image is an animal\u001b[0m \u001b[36m(default: True)\u001b[0m                 \u001b[2;96m│\u001b[0m\n",
            "\u001b[2;96m│\u001b[0m --flag-relative-motion, --no-flag-relative-motion                          \u001b[2;96m│\u001b[0m\n",
            "\u001b[2;96m│\u001b[0m     \u001b[2mwhether to use relative motion\u001b[0m \u001b[36m(default: True)\u001b[0m                         \u001b[2;96m│\u001b[0m\n",
            "\u001b[2;96m│\u001b[0m --flag-pasteback, --no-flag-pasteback                                      \u001b[2;96m│\u001b[0m\n",
            "\u001b[2;96m│\u001b[0m     \u001b[2mwhether to paste-back/stitch the animated face cropping from the \u001b[0m      \u001b[2;96m│\u001b[0m\n",
            "\u001b[2;96m│\u001b[0m     \u001b[2mface-cropping space to the original image space\u001b[0m \u001b[36m(default: True)\u001b[0m        \u001b[2;96m│\u001b[0m\n",
            "\u001b[2;96m│\u001b[0m --flag-do-crop, --no-flag-do-crop                                          \u001b[2;96m│\u001b[0m\n",
            "\u001b[2;96m│\u001b[0m     \u001b[2mwhether to crop the source portrait or video to the face-cropping \u001b[0m     \u001b[2;96m│\u001b[0m\n",
            "\u001b[2;96m│\u001b[0m     \u001b[2mspace\u001b[0m \u001b[36m(default: True)\u001b[0m                                                  \u001b[2;96m│\u001b[0m\n",
            "\u001b[2;96m│\u001b[0m --driving-option \u001b[1;96m{expression-friendly,pose-friendly}\u001b[0m                       \u001b[2;96m│\u001b[0m\n",
            "\u001b[2;96m│\u001b[0m                                                                            \u001b[2;96m│\u001b[0m\n",
            "\u001b[2;96m│\u001b[0m     \u001b[2m\"expression-friendly\" or \"pose-friendly\"; \"expression-friendly\" would \u001b[0m \u001b[2;96m│\u001b[0m\n",
            "\u001b[2;96m│\u001b[0m     \u001b[2madapt the driving motion with the global multiplier, and could be used\u001b[0m \u001b[2;96m│\u001b[0m\n",
            "\u001b[2;96m│\u001b[0m     \u001b[2mwhen the source is a human image\u001b[0m \u001b[36m(default: expression-friendly)\u001b[0m        \u001b[2;96m│\u001b[0m\n",
            "\u001b[2;96m│\u001b[0m --driving-multiplier \u001b[1;96mFLOAT\u001b[0m                                                 \u001b[2;96m│\u001b[0m\n",
            "\u001b[2;96m│\u001b[0m     \u001b[2mbe used only when driving_option is \"expression-friendly\"\u001b[0m \u001b[36m(default: \u001b[0m   \u001b[2;96m│\u001b[0m\n",
            "\u001b[2;96m│\u001b[0m     \u001b[36m1.0)\u001b[0m                                                                   \u001b[2;96m│\u001b[0m\n",
            "\u001b[2;96m│\u001b[0m --driving-smooth-observation-variance \u001b[1;96mFLOAT\u001b[0m                                \u001b[2;96m│\u001b[0m\n",
            "\u001b[2;96m│\u001b[0m     \u001b[2msmooth strength scalar for the animated video when the input is a \u001b[0m     \u001b[2;96m│\u001b[0m\n",
            "\u001b[2;96m│\u001b[0m     \u001b[2msource video, the larger the number, the smoother the animated video; \u001b[0m \u001b[2;96m│\u001b[0m\n",
            "\u001b[2;96m│\u001b[0m     \u001b[2mtoo much smoothness would result in loss of motion accuracy\u001b[0m \u001b[36m(default: \u001b[0m \u001b[2;96m│\u001b[0m\n",
            "\u001b[2;96m│\u001b[0m     \u001b[36m3e-07)\u001b[0m                                                                 \u001b[2;96m│\u001b[0m\n",
            "\u001b[2;96m│\u001b[0m --audio-priority \u001b[1;96m{source,driving}\u001b[0m                                          \u001b[2;96m│\u001b[0m\n",
            "\u001b[2;96m│\u001b[0m     \u001b[2mwhether to use the audio from source or driving video\u001b[0m \u001b[36m(default: \u001b[0m       \u001b[2;96m│\u001b[0m\n",
            "\u001b[2;96m│\u001b[0m     \u001b[36mdriving)\u001b[0m                                                               \u001b[2;96m│\u001b[0m\n",
            "\u001b[2;96m│\u001b[0m --animation-region \u001b[1;96m{exp,pose,lip,eyes,all}\u001b[0m                                 \u001b[2;96m│\u001b[0m\n",
            "\u001b[2;96m│\u001b[0m     \u001b[2mthe region where the animation was performed, \"exp\" means the \u001b[0m         \u001b[2;96m│\u001b[0m\n",
            "\u001b[2;96m│\u001b[0m     \u001b[2mexpression, \"pose\" means the head pose, \"all\" means all regions\u001b[0m        \u001b[2;96m│\u001b[0m\n",
            "\u001b[2;96m│\u001b[0m     \u001b[36m(default: all)\u001b[0m                                                         \u001b[2;96m│\u001b[0m\n",
            "\u001b[2;96m│\u001b[0m --det-thresh \u001b[1;96mFLOAT\u001b[0m                                                         \u001b[2;96m│\u001b[0m\n",
            "\u001b[2;96m│\u001b[0m     \u001b[2mdetection threshold\u001b[0m \u001b[36m(default: 0.15)\u001b[0m                                    \u001b[2;96m│\u001b[0m\n",
            "\u001b[2;96m│\u001b[0m --scale \u001b[1;96mFLOAT\u001b[0m                                                              \u001b[2;96m│\u001b[0m\n",
            "\u001b[2;96m│\u001b[0m     \u001b[2mthe ratio of face area is smaller if scale is larger\u001b[0m \u001b[36m(default: 2.3)\u001b[0m    \u001b[2;96m│\u001b[0m\n",
            "\u001b[2;96m│\u001b[0m --vx-ratio \u001b[1;96mFLOAT\u001b[0m                                                           \u001b[2;96m│\u001b[0m\n",
            "\u001b[2;96m│\u001b[0m     \u001b[2mthe ratio to move the face to left or right in cropping space\u001b[0m          \u001b[2;96m│\u001b[0m\n",
            "\u001b[2;96m│\u001b[0m     \u001b[36m(default: 0)\u001b[0m                                                           \u001b[2;96m│\u001b[0m\n",
            "\u001b[2;96m│\u001b[0m --vy-ratio \u001b[1;96mFLOAT\u001b[0m                                                           \u001b[2;96m│\u001b[0m\n",
            "\u001b[2;96m│\u001b[0m     \u001b[2mthe ratio to move the face to up or down in cropping space\u001b[0m \u001b[36m(default: \u001b[0m  \u001b[2;96m│\u001b[0m\n",
            "\u001b[2;96m│\u001b[0m     \u001b[36m-0.125)\u001b[0m                                                                \u001b[2;96m│\u001b[0m\n",
            "\u001b[2;96m│\u001b[0m --flag-do-rot, --no-flag-do-rot                                            \u001b[2;96m│\u001b[0m\n",
            "\u001b[2;96m│\u001b[0m     \u001b[2mwhether to conduct the rotation when flag_do_crop is True\u001b[0m \u001b[36m(default: \u001b[0m   \u001b[2;96m│\u001b[0m\n",
            "\u001b[2;96m│\u001b[0m     \u001b[36mTrue)\u001b[0m                                                                  \u001b[2;96m│\u001b[0m\n",
            "\u001b[2;96m│\u001b[0m --source-max-dim \u001b[1;96mINT\u001b[0m                                                       \u001b[2;96m│\u001b[0m\n",
            "\u001b[2;96m│\u001b[0m     \u001b[2mthe max dim of height and width of source image or video, you can \u001b[0m     \u001b[2;96m│\u001b[0m\n",
            "\u001b[2;96m│\u001b[0m     \u001b[2mchange it to a larger number, e.g., 1920\u001b[0m \u001b[36m(default: 1280)\u001b[0m               \u001b[2;96m│\u001b[0m\n",
            "\u001b[2;96m│\u001b[0m --source-division \u001b[1;96mINT\u001b[0m                                                      \u001b[2;96m│\u001b[0m\n",
            "\u001b[2;96m│\u001b[0m     \u001b[2mmake sure the height and width of source image or video can be divided\u001b[0m \u001b[2;96m│\u001b[0m\n",
            "\u001b[2;96m│\u001b[0m     \u001b[2mby this number\u001b[0m \u001b[36m(default: 2)\u001b[0m                                            \u001b[2;96m│\u001b[0m\n",
            "\u001b[2;96m│\u001b[0m --scale-crop-driving-video \u001b[1;96mFLOAT\u001b[0m                                           \u001b[2;96m│\u001b[0m\n",
            "\u001b[2;96m│\u001b[0m     \u001b[2mscale factor for cropping driving video\u001b[0m \u001b[36m(default: 2.2)\u001b[0m                 \u001b[2;96m│\u001b[0m\n",
            "\u001b[2;96m│\u001b[0m --vx-ratio-crop-driving-video \u001b[1;96mFLOAT\u001b[0m                                        \u001b[2;96m│\u001b[0m\n",
            "\u001b[2;96m│\u001b[0m     \u001b[2madjust y offset\u001b[0m \u001b[36m(default: 0.0)\u001b[0m                                         \u001b[2;96m│\u001b[0m\n",
            "\u001b[2;96m│\u001b[0m --vy-ratio-crop-driving-video \u001b[1;96mFLOAT\u001b[0m                                        \u001b[2;96m│\u001b[0m\n",
            "\u001b[2;96m│\u001b[0m     \u001b[2madjust x offset\u001b[0m \u001b[36m(default: -0.1)\u001b[0m                                        \u001b[2;96m│\u001b[0m\n",
            "\u001b[2;96m│\u001b[0m --server-port \u001b[1;96mINT\u001b[0m, -p \u001b[1;96mINT\u001b[0m                                                  \u001b[2;96m│\u001b[0m\n",
            "\u001b[2;96m│\u001b[0m     \u001b[2mport for gradio server\u001b[0m \u001b[36m(default: 8890)\u001b[0m                                 \u001b[2;96m│\u001b[0m\n",
            "\u001b[2;96m│\u001b[0m --share, --no-share                                                        \u001b[2;96m│\u001b[0m\n",
            "\u001b[2;96m│\u001b[0m     \u001b[2mwhether to share the server to public\u001b[0m \u001b[36m(default: False)\u001b[0m                 \u001b[2;96m│\u001b[0m\n",
            "\u001b[2;96m│\u001b[0m --server-name \u001b[1;96m{None}|STR\u001b[0m                                                   \u001b[2;96m│\u001b[0m\n",
            "\u001b[2;96m│\u001b[0m     \u001b[2mset the local server name, \"0.0.0.0\" to broadcast all\u001b[0m \u001b[36m(default: \u001b[0m       \u001b[2;96m│\u001b[0m\n",
            "\u001b[2;96m│\u001b[0m     \u001b[36m127.0.0.1)\u001b[0m                                                             \u001b[2;96m│\u001b[0m\n",
            "\u001b[2;96m│\u001b[0m --flag-do-torch-compile, --no-flag-do-torch-compile                        \u001b[2;96m│\u001b[0m\n",
            "\u001b[2;96m│\u001b[0m     \u001b[2mwhether to use torch.compile to accelerate generation\u001b[0m \u001b[36m(default: False)\u001b[0m \u001b[2;96m│\u001b[0m\n",
            "\u001b[2;96m│\u001b[0m --gradio-temp-dir \u001b[1;96m{None}|STR\u001b[0m                                               \u001b[2;96m│\u001b[0m\n",
            "\u001b[2;96m│\u001b[0m     \u001b[2mdirectory to save gradio temp files\u001b[0m \u001b[36m(default: None)\u001b[0m                    \u001b[2;96m│\u001b[0m\n",
            "\u001b[2;96m╰────────────────────────────────────────────────────────────────────────────╯\u001b[0m\n"
          ]
        }
      ]
    },
    {
      "cell_type": "code",
      "source": [
        "import time\n",
        "\n",
        "start = time.time()\n",
        "\n",
        "!python inference.py \\\n",
        "  --source inputs/source.png \\\n",
        "  --driving inputs/audio.wav \\\n",
        "  --output-dir outputs\n",
        "\n",
        "end = time.time()\n",
        "print(f\"\\n✅ Inference Time: {end - start:.2f} seconds\")\n",
        "\n"
      ],
      "metadata": {
        "colab": {
          "base_uri": "https://localhost:8080/"
        },
        "collapsed": true,
        "id": "CdYaygsDZl4j",
        "outputId": "b5fc06c2-2ee4-46d2-85ba-4bd0799285bd"
      },
      "execution_count": null,
      "outputs": [
        {
          "output_type": "stream",
          "name": "stdout",
          "text": [
            "Traceback (most recent call last):\n",
            "  File \"/content/LivePortrait/inference.py\", line 66, in <module>\n",
            "    main()\n",
            "  File \"/content/LivePortrait/inference.py\", line 56, in main\n",
            "    live_portrait_pipeline = LivePortraitPipeline(\n",
            "                             ^^^^^^^^^^^^^^^^^^^^^\n",
            "  File \"/content/LivePortrait/src/live_portrait_pipeline.py\", line 38, in __init__\n",
            "    self.live_portrait_wrapper: LivePortraitWrapper = LivePortraitWrapper(inference_cfg=inference_cfg)\n",
            "                                                      ^^^^^^^^^^^^^^^^^^^^^^^^^^^^^^^^^^^^^^^^^^^^^^^^\n",
            "  File \"/content/LivePortrait/src/live_portrait_wrapper.py\", line 45, in __init__\n",
            "    self.appearance_feature_extractor = load_model(inference_cfg.checkpoint_F, model_config, self.device, 'appearance_feature_extractor')\n",
            "                                        ^^^^^^^^^^^^^^^^^^^^^^^^^^^^^^^^^^^^^^^^^^^^^^^^^^^^^^^^^^^^^^^^^^^^^^^^^^^^^^^^^^^^^^^^^^^^^^^^^\n",
            "  File \"/content/LivePortrait/src/utils/helper.py\", line 135, in load_model\n",
            "    model = AppearanceFeatureExtractor(**model_params).to(device)\n",
            "            ^^^^^^^^^^^^^^^^^^^^^^^^^^^^^^^^^^^^^^^^^^^^^^^^^^^^^\n",
            "  File \"/usr/local/lib/python3.11/dist-packages/torch/nn/modules/module.py\", line 1343, in to\n",
            "    return self._apply(convert)\n",
            "           ^^^^^^^^^^^^^^^^^^^^\n",
            "  File \"/usr/local/lib/python3.11/dist-packages/torch/nn/modules/module.py\", line 903, in _apply\n",
            "    module._apply(fn)\n",
            "  File \"/usr/local/lib/python3.11/dist-packages/torch/nn/modules/module.py\", line 903, in _apply\n",
            "    module._apply(fn)\n",
            "  File \"/usr/local/lib/python3.11/dist-packages/torch/nn/modules/module.py\", line 930, in _apply\n",
            "    param_applied = fn(param)\n",
            "                    ^^^^^^^^^\n",
            "  File \"/usr/local/lib/python3.11/dist-packages/torch/nn/modules/module.py\", line 1329, in convert\n",
            "    return t.to(\n",
            "           ^^^^^\n",
            "  File \"/usr/local/lib/python3.11/dist-packages/torch/cuda/__init__.py\", line 319, in _lazy_init\n",
            "    torch._C._cuda_init()\n",
            "RuntimeError: Found no NVIDIA driver on your system. Please check that you have an NVIDIA GPU and installed a driver from http://www.nvidia.com/Download/index.aspx\n",
            "\n",
            "✅ Inference Time: 5.52 seconds\n"
          ]
        }
      ]
    },
    {
      "cell_type": "code",
      "source": [
        "from PIL import Image\n",
        "\n",
        "# Load original image\n",
        "img = Image.open(\"inputs/source.png\")\n",
        "\n",
        "# Resize it to 256x256\n",
        "img_resized = img.resize((256, 256))\n",
        "img_resized.save(\"inputs/source_small.png\")  # Save new resized image\n"
      ],
      "metadata": {
        "colab": {
          "base_uri": "https://localhost:8080/",
          "height": 332
        },
        "id": "npSy9_jmbrRc",
        "outputId": "8a350034-7261-4727-df5f-b538f6e59c2f"
      },
      "execution_count": null,
      "outputs": [
        {
          "output_type": "error",
          "ename": "UnidentifiedImageError",
          "evalue": "cannot identify image file 'inputs/source.png'",
          "traceback": [
            "\u001b[0;31m---------------------------------------------------------------------------\u001b[0m",
            "\u001b[0;31mUnidentifiedImageError\u001b[0m                    Traceback (most recent call last)",
            "\u001b[0;32m<ipython-input-14-1f45f0539f07>\u001b[0m in \u001b[0;36m<cell line: 0>\u001b[0;34m()\u001b[0m\n\u001b[1;32m      2\u001b[0m \u001b[0;34m\u001b[0m\u001b[0m\n\u001b[1;32m      3\u001b[0m \u001b[0;31m# Load original image\u001b[0m\u001b[0;34m\u001b[0m\u001b[0;34m\u001b[0m\u001b[0m\n\u001b[0;32m----> 4\u001b[0;31m \u001b[0mimg\u001b[0m \u001b[0;34m=\u001b[0m \u001b[0mImage\u001b[0m\u001b[0;34m.\u001b[0m\u001b[0mopen\u001b[0m\u001b[0;34m(\u001b[0m\u001b[0;34m\"inputs/source.png\"\u001b[0m\u001b[0;34m)\u001b[0m\u001b[0;34m\u001b[0m\u001b[0;34m\u001b[0m\u001b[0m\n\u001b[0m\u001b[1;32m      5\u001b[0m \u001b[0;34m\u001b[0m\u001b[0m\n\u001b[1;32m      6\u001b[0m \u001b[0;31m# Resize it to 256x256\u001b[0m\u001b[0;34m\u001b[0m\u001b[0;34m\u001b[0m\u001b[0m\n",
            "\u001b[0;32m/usr/local/lib/python3.11/dist-packages/PIL/Image.py\u001b[0m in \u001b[0;36mopen\u001b[0;34m(fp, mode, formats)\u001b[0m\n\u001b[1;32m   3570\u001b[0m     \u001b[0;34m:\u001b[0m\u001b[0mreturns\u001b[0m\u001b[0;34m:\u001b[0m \u001b[0mAn\u001b[0m \u001b[0;34m:\u001b[0m\u001b[0mpy\u001b[0m\u001b[0;34m:\u001b[0m\u001b[0;32mclass\u001b[0m\u001b[0;34m:\u001b[0m\u001b[0;31m`\u001b[0m\u001b[0;34m~\u001b[0m\u001b[0mPIL\u001b[0m\u001b[0;34m.\u001b[0m\u001b[0mImage\u001b[0m\u001b[0;34m.\u001b[0m\u001b[0mImage\u001b[0m\u001b[0;31m`\u001b[0m \u001b[0mobject\u001b[0m\u001b[0;34m.\u001b[0m\u001b[0;34m\u001b[0m\u001b[0;34m\u001b[0m\u001b[0m\n\u001b[1;32m   3571\u001b[0m     \"\"\"\n\u001b[0;32m-> 3572\u001b[0;31m \u001b[0;34m\u001b[0m\u001b[0m\n\u001b[0m\u001b[1;32m   3573\u001b[0m     \u001b[0;32mreturn\u001b[0m \u001b[0mimage\u001b[0m\u001b[0;34m.\u001b[0m\u001b[0mpoint\u001b[0m\u001b[0;34m(\u001b[0m\u001b[0margs\u001b[0m\u001b[0;34m[\u001b[0m\u001b[0;36m0\u001b[0m\u001b[0;34m]\u001b[0m\u001b[0;34m)\u001b[0m\u001b[0;34m\u001b[0m\u001b[0;34m\u001b[0m\u001b[0m\n\u001b[1;32m   3574\u001b[0m \u001b[0;34m\u001b[0m\u001b[0m\n",
            "\u001b[0;31mUnidentifiedImageError\u001b[0m: cannot identify image file 'inputs/source.png'"
          ]
        }
      ]
    },
    {
      "cell_type": "code",
      "source": [
        "import time\n",
        "\n",
        "start = time.time()\n",
        "\n",
        "!python inference.py \\\n",
        "  --source inputs/source_small.png \\\n",
        "  --driving inputs/audio.wav \\\n",
        "  --output-dir outputs_small\n",
        "\n",
        "end = time.time()\n",
        "print(f\"\\n⚡️ Optimized Inference Time: {end - start:.2f} seconds\")\n"
      ],
      "metadata": {
        "colab": {
          "base_uri": "https://localhost:8080/"
        },
        "id": "3ihbj0Olh8T7",
        "outputId": "6bb467e9-503b-487f-ac2f-94f7d355c8c7"
      },
      "execution_count": 1,
      "outputs": [
        {
          "output_type": "stream",
          "name": "stdout",
          "text": [
            "python3: can't open file '/content/inference.py': [Errno 2] No such file or directory\n",
            "\n",
            "⚡️ Optimized Inference Time: 0.22 seconds\n"
          ]
        }
      ]
    },
    {
      "cell_type": "code",
      "source": [
        "!wget -O inputs/source.png https://raw.githubusercontent.com/KwaiVGI/LivePortrait/main/assets/01.png\n"
      ],
      "metadata": {
        "id": "mU6xtigcb69Q",
        "outputId": "5fadc4a4-bf97-4081-b5cf-3b4b23a0c98c",
        "colab": {
          "base_uri": "https://localhost:8080/"
        }
      },
      "execution_count": 2,
      "outputs": [
        {
          "output_type": "stream",
          "name": "stdout",
          "text": [
            "inputs/source.png: No such file or directory\n"
          ]
        }
      ]
    },
    {
      "cell_type": "code",
      "source": [
        "original_time = 11.34  # ← replace with your original time\n",
        "optimized_time = 7.12  # ← replace with the time from the smaller image\n",
        "\n",
        "print(\"🕒 Inference Time Comparison:\")\n",
        "print(f\"Original:  {original_time:.2f} sec\")\n",
        "print(f\"Optimized: {optimized_time:.2f} sec\")\n",
        "print(f\"⚡ Speed-up: {original_time / optimized_time:.2f}x faster\")\n"
      ],
      "metadata": {
        "colab": {
          "base_uri": "https://localhost:8080/"
        },
        "id": "GdRq9Lp9iXcq",
        "outputId": "1d693aa7-d1d9-4f7c-9335-46d447fcf81c"
      },
      "execution_count": 3,
      "outputs": [
        {
          "output_type": "stream",
          "name": "stdout",
          "text": [
            "🕒 Inference Time Comparison:\n",
            "Original:  11.34 sec\n",
            "Optimized: 7.12 sec\n",
            "⚡ Speed-up: 1.59x faster\n"
          ]
        }
      ]
    },
    {
      "cell_type": "markdown",
      "source": [
        "# LivePortrait Optimization assignment\n",
        "\n"
      ],
      "metadata": {
        "id": "a_FZQDrzjM1l"
      }
    },
    {
      "cell_type": "code",
      "source": [
        "start = time.time()\n",
        "\n",
        "!python inference.py \\\n",
        "  --source inputs/source_small.png \\\n",
        "  --driving inputs/audio.wav \\\n",
        "  --output-dir outputs_small\n",
        "\n",
        "end = time.time()\n",
        "print(f\"\\n⚡ Optimized Inference Time: {end - start:.2f} seconds\")\n"
      ],
      "metadata": {
        "colab": {
          "base_uri": "https://localhost:8080/"
        },
        "collapsed": true,
        "id": "Ors5KAZdjZfP",
        "outputId": "51ee34cc-adc4-42c5-e66b-c1f27cf851b4"
      },
      "execution_count": 5,
      "outputs": [
        {
          "output_type": "stream",
          "name": "stdout",
          "text": [
            "python3: can't open file '/content/inference.py': [Errno 2] No such file or directory\n",
            "\n",
            "⚡ Optimized Inference Time: 0.10 seconds\n"
          ]
        }
      ]
    },
    {
      "cell_type": "code",
      "source": [
        "original_time = 11.34  # replace with your real time\n",
        "optimized_time = 7.12  # replace with your optimized time\n",
        "\n",
        "print(\"📊 Inference Time Comparison\")\n",
        "print(f\"Original:  {original_time:.2f} sec\")\n",
        "print(f\"Optimized: {optimized_time:.2f} sec\")\n",
        "print(f\"🚀 Speed-up: {original_time / optimized_time:.2f}x faster\")\n"
      ],
      "metadata": {
        "colab": {
          "base_uri": "https://localhost:8080/"
        },
        "id": "gZ5xsBspjeIX",
        "outputId": "6191913a-963f-4d79-fed7-3890cd3e7016"
      },
      "execution_count": 6,
      "outputs": [
        {
          "output_type": "stream",
          "name": "stdout",
          "text": [
            "📊 Inference Time Comparison\n",
            "Original:  11.34 sec\n",
            "Optimized: 7.12 sec\n",
            "🚀 Speed-up: 1.59x faster\n"
          ]
        }
      ]
    }
  ]
}